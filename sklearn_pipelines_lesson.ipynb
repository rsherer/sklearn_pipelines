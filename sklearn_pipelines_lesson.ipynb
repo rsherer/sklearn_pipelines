{
 "cells": [
  {
   "cell_type": "markdown",
   "metadata": {},
   "source": [
    "# PYTHON PLUMBING 101\n",
    "*'What be we all but not simple plumbers, plumbing the depths of our knowledge.'* \n",
    "\n",
    "__-Benjamin Franklin__"
   ]
  },
  {
   "cell_type": "markdown",
   "metadata": {},
   "source": [
    "Pipelines look more complicated than they actually are. Lets take a look at how to build our own!"
   ]
  },
  {
   "cell_type": "markdown",
   "metadata": {},
   "source": [
    "<img src='images/refinery_pipes.jpg'/>"
   ]
  },
  {
   "cell_type": "code",
   "execution_count": 1,
   "metadata": {},
   "outputs": [],
   "source": [
    "import pandas as pd\n",
    "from sklearn.pipeline import Pipeline\n",
    "from sklearn.ensemble import RandomForestClassifier\n",
    "from sklearn.base import BaseEstimator, TransformerMixin\n",
    "from src.pipeline_classes import Featurizer, Imputer, Standardizer, Dummifier\n",
    "import src.model as model\n",
    "import pickle"
   ]
  },
  {
   "cell_type": "code",
   "execution_count": 2,
   "metadata": {},
   "outputs": [
    {
     "name": "stdout",
     "output_type": "stream",
     "text": [
      "Archive:  data/data.zip\n",
      "  inflating: data.json               \n"
     ]
    }
   ],
   "source": [
    "# unzip data.zip to inflate it into a .json file\n",
    "!unzip data/data.zip\n",
    "# move file from the working directory to the data subdirectory\n",
    "!mv data.json data/training_data.json"
   ]
  },
  {
   "cell_type": "code",
   "execution_count": 3,
   "metadata": {},
   "outputs": [],
   "source": [
    "# load raw training data\n",
    "X, y = model.load('data/training_data.json')"
   ]
  },
  {
   "cell_type": "code",
   "execution_count": 36,
   "metadata": {},
   "outputs": [
    {
     "data": {
      "text/html": [
       "<div>\n",
       "<style scoped>\n",
       "    .dataframe tbody tr th:only-of-type {\n",
       "        vertical-align: middle;\n",
       "    }\n",
       "\n",
       "    .dataframe tbody tr th {\n",
       "        vertical-align: top;\n",
       "    }\n",
       "\n",
       "    .dataframe thead th {\n",
       "        text-align: right;\n",
       "    }\n",
       "</style>\n",
       "<table border=\"1\" class=\"dataframe\">\n",
       "  <thead>\n",
       "    <tr style=\"text-align: right;\">\n",
       "      <th></th>\n",
       "      <th>body_length</th>\n",
       "      <th>channels</th>\n",
       "      <th>country</th>\n",
       "      <th>currency</th>\n",
       "      <th>delivery_method</th>\n",
       "      <th>description</th>\n",
       "      <th>email_domain</th>\n",
       "      <th>event_created</th>\n",
       "      <th>event_end</th>\n",
       "      <th>event_published</th>\n",
       "      <th>...</th>\n",
       "      <th>ticket_types</th>\n",
       "      <th>user_age</th>\n",
       "      <th>user_created</th>\n",
       "      <th>user_type</th>\n",
       "      <th>venue_address</th>\n",
       "      <th>venue_country</th>\n",
       "      <th>venue_latitude</th>\n",
       "      <th>venue_longitude</th>\n",
       "      <th>venue_name</th>\n",
       "      <th>venue_state</th>\n",
       "    </tr>\n",
       "  </thead>\n",
       "  <tbody>\n",
       "    <tr>\n",
       "      <th>0</th>\n",
       "      <td>3852</td>\n",
       "      <td>5</td>\n",
       "      <td>US</td>\n",
       "      <td>USD</td>\n",
       "      <td>0.0</td>\n",
       "      <td>&lt;p&gt;&lt;a href=\"http://s432.photobucket.com/albums...</td>\n",
       "      <td>gmail.com</td>\n",
       "      <td>1262739706</td>\n",
       "      <td>1265630400</td>\n",
       "      <td>1.263110e+09</td>\n",
       "      <td>...</td>\n",
       "      <td>[{'event_id': 527017, 'cost': 25.0, 'availabil...</td>\n",
       "      <td>36</td>\n",
       "      <td>1259613950</td>\n",
       "      <td>1</td>\n",
       "      <td>717 Washington Avenue</td>\n",
       "      <td>US</td>\n",
       "      <td>25.777471</td>\n",
       "      <td>-80.133433</td>\n",
       "      <td>INK Nightclub - South Beach</td>\n",
       "      <td>FL</td>\n",
       "    </tr>\n",
       "    <tr>\n",
       "      <th>1</th>\n",
       "      <td>3499</td>\n",
       "      <td>0</td>\n",
       "      <td>US</td>\n",
       "      <td>USD</td>\n",
       "      <td>1.0</td>\n",
       "      <td>&lt;p&gt;Join us for a quick, one-night, community-b...</td>\n",
       "      <td>ruf.org</td>\n",
       "      <td>1293832670</td>\n",
       "      <td>1296288000</td>\n",
       "      <td>1.293833e+09</td>\n",
       "      <td>...</td>\n",
       "      <td>[{'event_id': 786878, 'cost': 35.0, 'availabil...</td>\n",
       "      <td>149</td>\n",
       "      <td>1280942776</td>\n",
       "      <td>3</td>\n",
       "      <td></td>\n",
       "      <td>US</td>\n",
       "      <td>32.776566</td>\n",
       "      <td>-79.930922</td>\n",
       "      <td>The Charleston, SC area</td>\n",
       "      <td>SC</td>\n",
       "    </tr>\n",
       "  </tbody>\n",
       "</table>\n",
       "<p>2 rows × 38 columns</p>\n",
       "</div>"
      ],
      "text/plain": [
       "   body_length  channels country currency  delivery_method  \\\n",
       "0         3852         5      US      USD              0.0   \n",
       "1         3499         0      US      USD              1.0   \n",
       "\n",
       "                                         description email_domain  \\\n",
       "0  <p><a href=\"http://s432.photobucket.com/albums...    gmail.com   \n",
       "1  <p>Join us for a quick, one-night, community-b...      ruf.org   \n",
       "\n",
       "   event_created   event_end  event_published     ...      \\\n",
       "0     1262739706  1265630400     1.263110e+09     ...       \n",
       "1     1293832670  1296288000     1.293833e+09     ...       \n",
       "\n",
       "                                        ticket_types  user_age  user_created  \\\n",
       "0  [{'event_id': 527017, 'cost': 25.0, 'availabil...        36    1259613950   \n",
       "1  [{'event_id': 786878, 'cost': 35.0, 'availabil...       149    1280942776   \n",
       "\n",
       "   user_type          venue_address venue_country venue_latitude  \\\n",
       "0          1  717 Washington Avenue            US      25.777471   \n",
       "1          3                                   US      32.776566   \n",
       "\n",
       "   venue_longitude                   venue_name venue_state  \n",
       "0       -80.133433  INK Nightclub - South Beach          FL  \n",
       "1       -79.930922      The Charleston, SC area          SC  \n",
       "\n",
       "[2 rows x 38 columns]"
      ]
     },
     "execution_count": 36,
     "metadata": {},
     "output_type": "execute_result"
    }
   ],
   "source": [
    "# look at data\n",
    "X.head(2)"
   ]
  },
  {
   "cell_type": "code",
   "execution_count": 37,
   "metadata": {},
   "outputs": [
    {
     "data": {
      "text/plain": [
       "0     True\n",
       "1    False\n",
       "2    False\n",
       "Name: fraud, dtype: bool"
      ]
     },
     "execution_count": 37,
     "metadata": {},
     "output_type": "execute_result"
    }
   ],
   "source": [
    "y.head(3)"
   ]
  },
  {
   "cell_type": "markdown",
   "metadata": {},
   "source": [
    "## Lets build a pipeline and fit it!"
   ]
  },
  {
   "cell_type": "markdown",
   "metadata": {},
   "source": [
    "## STEP 1: Create Pipeline"
   ]
  },
  {
   "cell_type": "markdown",
   "metadata": {},
   "source": [
    "<img src='images/step1.png'/>"
   ]
  },
  {
   "cell_type": "code",
   "execution_count": 48,
   "metadata": {},
   "outputs": [],
   "source": [
    "pipe = Pipeline([\n",
    "        ('featurizer', Featurizer(['body_length', \n",
    "                            'channels', \n",
    "                            'country', \n",
    "                            'currency', \n",
    "                            'description', \n",
    "                            'email_domain', \n",
    "                            'event_created', \n",
    "                            'event_end',\n",
    "                            'event_published', \n",
    "                            'event_start', \n",
    "                            'fb_published', \n",
    "                            'has_analytics',\n",
    "                            'has_header', \n",
    "                            'has_logo', \n",
    "                            'listed', \n",
    "                            'name', \n",
    "                            'name_length', \n",
    "                            'object_id',\n",
    "                            'org_desc', \n",
    "                            'org_facebook', \n",
    "                            'org_name', \n",
    "                            'org_twitter', \n",
    "                            'payee_name',\n",
    "                            'payout_type', \n",
    "                            'previous_payouts', \n",
    "                            'sale_duration', \n",
    "                            'show_map',\n",
    "                            'ticket_types', \n",
    "                            'user_age', \n",
    "                            'user_created', \n",
    "                            'user_type',\n",
    "                            'venue_address', \n",
    "                            'venue_country', \n",
    "                            'venue_latitude', \n",
    "                            'venue_longitude',\n",
    "                            'venue_name', \n",
    "                            'venue_state'])),\n",
    "        ('imputer', Imputer(cols_dict={'body_length': 'cont', \n",
    "                             'channels': 'cat', \n",
    "                             'country': 'cat', \n",
    "                             'currency': 'cat', \n",
    "                             'fb_published': 'cat', \n",
    "                             'has_analytics': 'cat', \n",
    "                             'has_header': 'cat', \n",
    "                             'has_logo': 'cat', \n",
    "                             'listed': 'cat', \n",
    "                             'name_length': 'cont', \n",
    "                             'payout_type': 'cat', \n",
    "                             'sale_duration': 'cont', \n",
    "                             'show_map': 'cat', \n",
    "                             'user_age': 'cont', \n",
    "                             'user_type': 'cat', \n",
    "                             'event_duration': 'cont', \n",
    "                             'has_payee_name': 'cat', \n",
    "                             'has_previous_payouts': 'cat', \n",
    "                             'has_payout_type': 'cat', \n",
    "                             'has_facebook': 'cat', \n",
    "                             'has_twitter': 'cat'})),\n",
    "        ('dummifier', Dummifier(['channels', \n",
    "                                  'country', \n",
    "                                  'currency', \n",
    "                                  'fb_published', \n",
    "                                  'has_analytics', \n",
    "                                  'has_header', \n",
    "                                  'has_logo', \n",
    "                                  'listed',\n",
    "                                  'payout_type', \n",
    "                                  'show_map', \n",
    "                                  'user_type', \n",
    "                                  'has_payee_name', \n",
    "                                  'has_previous_payouts',\n",
    "                                  'has_payout_type', \n",
    "                                  'has_facebook', \n",
    "                                  'has_twitter'])),\n",
    "        ('model', RandomForestClassifier(n_estimators=500, \n",
    "                                         max_depth=25))\n",
    "        ])"
   ]
  },
  {
   "cell_type": "markdown",
   "metadata": {},
   "source": [
    "## STEP 2: Fit the entire pipeline"
   ]
  },
  {
   "cell_type": "markdown",
   "metadata": {},
   "source": [
    "<img src='images/step2.png'/>"
   ]
  },
  {
   "cell_type": "code",
   "execution_count": 8,
   "metadata": {},
   "outputs": [
    {
     "data": {
      "text/plain": [
       "Pipeline(memory=None,\n",
       "     steps=[('featurizer', Featurizer(cols=['body_length', 'channels', 'country', 'currency', 'description', 'email_domain', 'event_created', 'event_end', 'event_published', 'event_start', 'fb_published', 'has_analytics', 'has_header', 'has_logo', 'listed', 'name', 'name_length', 'object_id', 'org_desc',...obs=None,\n",
       "            oob_score=False, random_state=None, verbose=0,\n",
       "            warm_start=False))])"
      ]
     },
     "execution_count": 8,
     "metadata": {},
     "output_type": "execute_result"
    }
   ],
   "source": [
    "# fit the classes and train the model\n",
    "pipe.fit(X, y)"
   ]
  },
  {
   "cell_type": "markdown",
   "metadata": {},
   "source": [
    "## STEP 3: Deploy the pipeline"
   ]
  },
  {
   "cell_type": "markdown",
   "metadata": {},
   "source": [
    "We now have a fit pipeline with a fit model!"
   ]
  },
  {
   "cell_type": "markdown",
   "metadata": {},
   "source": [
    "<img src='images/step3.png'/>"
   ]
  },
  {
   "cell_type": "markdown",
   "metadata": {},
   "source": [
    "### We can now do one of two things:\n",
    "1. We can use the pipeline to tranform our data and use the trained model to make predictions, or\n",
    "2. We can pickle our pipeline object and move it to another machine to be used to tranform data and make predictions."
   ]
  },
  {
   "cell_type": "markdown",
   "metadata": {},
   "source": [
    "### Option 1: tranform and predict"
   ]
  },
  {
   "cell_type": "code",
   "execution_count": 9,
   "metadata": {},
   "outputs": [],
   "source": [
    "new_data = pd.read_csv('data/new_data.csv')"
   ]
  },
  {
   "cell_type": "code",
   "execution_count": 10,
   "metadata": {},
   "outputs": [
    {
     "data": {
      "text/html": [
       "<div>\n",
       "<style scoped>\n",
       "    .dataframe tbody tr th:only-of-type {\n",
       "        vertical-align: middle;\n",
       "    }\n",
       "\n",
       "    .dataframe tbody tr th {\n",
       "        vertical-align: top;\n",
       "    }\n",
       "\n",
       "    .dataframe thead th {\n",
       "        text-align: right;\n",
       "    }\n",
       "</style>\n",
       "<table border=\"1\" class=\"dataframe\">\n",
       "  <thead>\n",
       "    <tr style=\"text-align: right;\">\n",
       "      <th></th>\n",
       "      <th>body_length</th>\n",
       "      <th>channels</th>\n",
       "      <th>country</th>\n",
       "      <th>currency</th>\n",
       "      <th>delivery_method</th>\n",
       "      <th>description</th>\n",
       "      <th>email_domain</th>\n",
       "      <th>event_created</th>\n",
       "      <th>event_end</th>\n",
       "      <th>event_published</th>\n",
       "      <th>...</th>\n",
       "      <th>ticket_types</th>\n",
       "      <th>user_age</th>\n",
       "      <th>user_created</th>\n",
       "      <th>user_type</th>\n",
       "      <th>venue_address</th>\n",
       "      <th>venue_country</th>\n",
       "      <th>venue_latitude</th>\n",
       "      <th>venue_longitude</th>\n",
       "      <th>venue_name</th>\n",
       "      <th>venue_state</th>\n",
       "    </tr>\n",
       "  </thead>\n",
       "  <tbody>\n",
       "    <tr>\n",
       "      <th>0</th>\n",
       "      <td>432</td>\n",
       "      <td>0</td>\n",
       "      <td>US</td>\n",
       "      <td>USD</td>\n",
       "      <td>0.0</td>\n",
       "      <td>&lt;p&gt;&lt;span&gt;&lt;span class=\"fsl\"&gt;LOUD Championship E...</td>\n",
       "      <td>gmail.com</td>\n",
       "      <td>1365694066</td>\n",
       "      <td>1369018800</td>\n",
       "      <td>1.365694e+09</td>\n",
       "      <td>...</td>\n",
       "      <td>[{'event_id': 6225359, 'cost': 20.0, 'availabi...</td>\n",
       "      <td>1155</td>\n",
       "      <td>1265937792</td>\n",
       "      <td>1</td>\n",
       "      <td>905 Atlantic ave.</td>\n",
       "      <td>US</td>\n",
       "      <td>40.68097</td>\n",
       "      <td>-73.962861</td>\n",
       "      <td>Freecandy</td>\n",
       "      <td>NY</td>\n",
       "    </tr>\n",
       "  </tbody>\n",
       "</table>\n",
       "<p>1 rows × 38 columns</p>\n",
       "</div>"
      ],
      "text/plain": [
       "   body_length  channels country currency  delivery_method  \\\n",
       "0          432         0      US      USD              0.0   \n",
       "\n",
       "                                         description email_domain  \\\n",
       "0  <p><span><span class=\"fsl\">LOUD Championship E...    gmail.com   \n",
       "\n",
       "   event_created   event_end  event_published     ...      \\\n",
       "0     1365694066  1369018800     1.365694e+09     ...       \n",
       "\n",
       "                                        ticket_types  user_age  user_created  \\\n",
       "0  [{'event_id': 6225359, 'cost': 20.0, 'availabi...      1155    1265937792   \n",
       "\n",
       "   user_type      venue_address venue_country venue_latitude  venue_longitude  \\\n",
       "0          1  905 Atlantic ave.            US       40.68097       -73.962861   \n",
       "\n",
       "   venue_name venue_state  \n",
       "0   Freecandy          NY  \n",
       "\n",
       "[1 rows x 38 columns]"
      ]
     },
     "execution_count": 10,
     "metadata": {},
     "output_type": "execute_result"
    }
   ],
   "source": [
    "# lets look at the new raw data:\n",
    "new_data.head(1)"
   ]
  },
  {
   "cell_type": "markdown",
   "metadata": {},
   "source": [
    "<img src='images/step4.png'/>"
   ]
  },
  {
   "cell_type": "code",
   "execution_count": 11,
   "metadata": {},
   "outputs": [],
   "source": [
    "predictions = pipe.predict_proba(new_data)"
   ]
  },
  {
   "cell_type": "code",
   "execution_count": 12,
   "metadata": {},
   "outputs": [],
   "source": [
    "success_probability = predictions.T[1]"
   ]
  },
  {
   "cell_type": "code",
   "execution_count": 13,
   "metadata": {},
   "outputs": [
    {
     "data": {
      "text/plain": [
       "array([2.00000000e-02, 1.40000000e-02, 0.00000000e+00, 1.06951872e-05,\n",
       "       1.21527891e-02, 2.00000000e-03, 1.51649575e-01, 6.00000000e-03,\n",
       "       2.02040816e-03, 0.00000000e+00])"
      ]
     },
     "execution_count": 13,
     "metadata": {},
     "output_type": "execute_result"
    }
   ],
   "source": [
    "#show first 10 probabilities\n",
    "success_probability[:10]"
   ]
  },
  {
   "cell_type": "markdown",
   "metadata": {},
   "source": [
    "### Option 2: Pickle, Send, Unpickle, Transform, Predict."
   ]
  },
  {
   "cell_type": "markdown",
   "metadata": {},
   "source": [
    "<img src='images/step5.png'/>"
   ]
  },
  {
   "cell_type": "markdown",
   "metadata": {},
   "source": [
    "Save `pipe` object to a pickle file"
   ]
  },
  {
   "cell_type": "code",
   "execution_count": 14,
   "metadata": {},
   "outputs": [],
   "source": [
    "output_file = 'data/pickled_pipe.pkl'"
   ]
  },
  {
   "cell_type": "code",
   "execution_count": 15,
   "metadata": {},
   "outputs": [],
   "source": [
    "with open(output_file, 'wb') as f:\n",
    "        pickle.dump(pipe, f)"
   ]
  },
  {
   "cell_type": "markdown",
   "metadata": {},
   "source": [
    "You can now `move` the pickle file anywhere you want!"
   ]
  },
  {
   "cell_type": "markdown",
   "metadata": {},
   "source": [
    "To unpickle the `pipe` object:"
   ]
  },
  {
   "cell_type": "code",
   "execution_count": 16,
   "metadata": {},
   "outputs": [],
   "source": [
    "input_file = 'data/pickled_pipe.pkl'"
   ]
  },
  {
   "cell_type": "code",
   "execution_count": 17,
   "metadata": {},
   "outputs": [],
   "source": [
    "unpickled_pipe = pickle.load(open(input_file, 'rb'))"
   ]
  },
  {
   "cell_type": "code",
   "execution_count": 18,
   "metadata": {},
   "outputs": [
    {
     "data": {
      "text/plain": [
       "{'featurizer': Featurizer(cols=['body_length', 'channels', 'country', 'currency', 'description', 'email_domain', 'event_created', 'event_end', 'event_published', 'event_start', 'fb_published', 'has_analytics', 'has_header', 'has_logo', 'listed', 'name', 'name_length', 'object_id', 'org_desc', 'org_facebook', 'org_name', 'org... 'venue_address', 'venue_country', 'venue_latitude', 'venue_longitude', 'venue_name', 'venue_state']),\n",
       " 'imputer': Imputer(cols_dict={'body_length': 'cont', 'channels': 'cat', 'country': 'cat', 'currency': 'cat', 'fb_published': 'cat', 'has_analytics': 'cat', 'has_header': 'cat', 'has_logo': 'cat', 'listed': 'cat', 'name_length': 'cont', 'payout_type': 'cat', 'sale_duration': 'cont', 'show_map': 'cat', 'user_age': 'cont', 'user_type': 'cat', 'event_duration': 'cont', 'has_payee_name': 'cat', 'has_previous_payouts': 'cat', 'has_payout_type': 'cat', 'has_facebook': 'cat', 'has_twitter': 'cat'}),\n",
       " 'dummifier': Dummifier(cols_to_dummy=['channels', 'country', 'currency', 'fb_published', 'has_analytics', 'has_header', 'has_logo', 'listed', 'payout_type', 'show_map', 'user_type', 'has_payee_name', 'has_previous_payouts', 'has_payout_type', 'has_facebook', 'has_twitter']),\n",
       " 'model': RandomForestClassifier(bootstrap=True, class_weight=None, criterion='gini',\n",
       "             max_depth=25, max_features='auto', max_leaf_nodes=None,\n",
       "             min_impurity_decrease=0.0, min_impurity_split=None,\n",
       "             min_samples_leaf=1, min_samples_split=2,\n",
       "             min_weight_fraction_leaf=0.0, n_estimators=500, n_jobs=None,\n",
       "             oob_score=False, random_state=None, verbose=0,\n",
       "             warm_start=False)}"
      ]
     },
     "execution_count": 18,
     "metadata": {},
     "output_type": "execute_result"
    }
   ],
   "source": [
    "unpickled_pipe.named_steps"
   ]
  },
  {
   "cell_type": "markdown",
   "metadata": {},
   "source": [
    "## SUMMARY- All the steps:"
   ]
  },
  {
   "cell_type": "markdown",
   "metadata": {},
   "source": [
    "<img src='images/step6.png'/>"
   ]
  },
  {
   "cell_type": "markdown",
   "metadata": {},
   "source": [
    "### Other Pipeline Patterns"
   ]
  },
  {
   "cell_type": "markdown",
   "metadata": {},
   "source": [
    "<img src='images/other_pipeline.png'/>"
   ]
  },
  {
   "cell_type": "markdown",
   "metadata": {},
   "source": [
    "https://medium.com/bigdatarepublic/integrating-pandas-and-scikit-learn-with-pipelines-f70eb6183696\n",
    "\n",
    "https://github.com/madrury/regression-tools/blob/master/regression_tools/dftransformers.py"
   ]
  },
  {
   "cell_type": "markdown",
   "metadata": {},
   "source": [
    "## HOW TO BUILD A CUSTOM PIPELINE CLASS"
   ]
  },
  {
   "cell_type": "markdown",
   "metadata": {},
   "source": [
    "### Basic structure:"
   ]
  },
  {
   "cell_type": "code",
   "execution_count": 20,
   "metadata": {},
   "outputs": [],
   "source": [
    "\n",
    "\n",
    "# framework on which to build custom sklearn pipeline classes\n",
    "class PipeClassFramework(BaseEstimator, TransformerMixin):\n",
    "    def __init__(self, param=None):\n",
    "        self.param = param\n",
    "        \n",
    "    def fit(self, X, y=None):\n",
    "        return self\n",
    "    \n",
    "    def transform(X):\n",
    "        X = X.copy()\n",
    "        return X\n",
    "    \n",
    "    @staticmethod\n",
    "    def helper_function(X):\n",
    "        return X.shape\n",
    "    \n",
    "    "
   ]
  },
  {
   "cell_type": "markdown",
   "metadata": {},
   "source": [
    "- If applicable, parameters need to be assigned in the `__init__`() method\n",
    "- The name of `param` within the `__itit__(self, param)` needs to match the name `self.params` exactly\n",
    "- The fit method must return itself, even if there is no need to fit anything\n",
    "- The class should inherit traits from `BaseEstimator` and `TransformerMixin`\n",
    "- The `fit( )` method must take in X and y, even though y may not be necessary. Set `y=None`. \n",
    "- The `transform( )` method take in only X.\n",
    "- It is best practice to make a copy of X (`X = X.copy()`) in the tranform to avoid transforming the original dataframe."
   ]
  },
  {
   "cell_type": "markdown",
   "metadata": {},
   "source": [
    "### EXAMPLES PIPELINE CLASSES:"
   ]
  },
  {
   "cell_type": "code",
   "execution_count": 6,
   "metadata": {},
   "outputs": [],
   "source": [
    "\n",
    "\n",
    "class Featurizer1(BaseEstimator, TransformerMixin):\n",
    "    \"\"\"Clean incoming df to fit into model\"\"\"\n",
    "    \n",
    "    def __init__(self, cols=None):\n",
    "        \"\"\"INPUT: a data_type_dict to determine which columns are \n",
    "                  continueous and categorical\n",
    "                  an optional cols list of columns to select\"\"\"\n",
    "        self.cols = cols\n",
    "    \n",
    "    def fit(self, X, y=None):\n",
    "        return self\n",
    "\n",
    "    def transform(self, X):\n",
    "        \"\"\"tranform and clean incoming training or test\"\"\"\n",
    "        df = X.copy()\n",
    "        df = df.loc[:,self.cols]\n",
    "        df['event_duration'] = df['event_end']-df['event_start']\n",
    "        df['has_payee_name'] = df['payee_name'].apply(self.is_empty)\n",
    "        df['has_header'] = df['has_header'].fillna(0)\n",
    "        df['has_previous_payouts'] = df['previous_payouts'].apply(self.is_empty)\n",
    "        df['has_payout_type'] = df['payout_type'].apply(self.is_empty)\n",
    "        df['has_facebook'] = df['org_facebook'].apply(self.is_not_zero)\n",
    "        df['has_twitter'] = df['org_twitter'].apply(self.is_not_zero)\n",
    "        df['country'] = df['country'].apply(self.replace_empty_with_none)\n",
    "        drop_list = ['description',\n",
    "                    'event_created',\n",
    "                    'event_end',\n",
    "                    'event_published',\n",
    "                    'event_start',\n",
    "                    'name',\n",
    "                    'object_id',\n",
    "                    'payee_name',\n",
    "                    'ticket_types',\n",
    "                    'user_created',\n",
    "                    'venue_address',\n",
    "                    'venue_country',\n",
    "                    'venue_longitude',\n",
    "                    'venue_latitude',\n",
    "                    'venue_name',\n",
    "                    'venue_state',\n",
    "                    'previous_payouts',\n",
    "                    'email_domain',\n",
    "                    'org_name',\n",
    "                    'org_twitter',\n",
    "                    'org_facebook',\n",
    "                    'org_desc']\n",
    "        return df.drop(drop_list, axis=1)\n",
    "\n",
    "    @staticmethod  \n",
    "    def is_not_zero(x):\n",
    "        if x == 0:\n",
    "            return 0\n",
    "        return 1\n",
    "\n",
    "    @staticmethod\n",
    "    def is_empty(x):\n",
    "        if not x:\n",
    "            return 0\n",
    "        return 1\n",
    "\n",
    "    @staticmethod\n",
    "    def max_cost(row):\n",
    "        \"\"\"Find the hightest ticket price from a row in df['ticket_types']\n",
    "        input: [{'event_id': 527017,\n",
    "                'cost': 25.0,\n",
    "                'availability': 1,\n",
    "                'quantity_total': 800,\n",
    "                'quantity_sold': 0},\n",
    "                {'event_id': 527017,\n",
    "                'cost': 50.0,\n",
    "                'availability': 1,\n",
    "                'quantity_total': 100,\n",
    "                'quantity_sold': 0},\n",
    "                {'event_id': 527017,\n",
    "                'cost': 550.0,\n",
    "                'availability': 1,\n",
    "                'quantity_total': 20,\n",
    "                'quantity_sold': 0}]\n",
    "        output: 550.0 \"\"\"\n",
    "        maximum = 0\n",
    "        for item in row:\n",
    "            if item['cost'] >= maximum:\n",
    "                maximum = item['cost']\n",
    "        return maximum\n",
    "    \n",
    "    @staticmethod\n",
    "    def replace_empty_with_none(x):\n",
    "        if not x:\n",
    "            return 'None'\n",
    "        else: \n",
    "            return x\n",
    "        \n",
    "        "
   ]
  },
  {
   "cell_type": "code",
   "execution_count": 7,
   "metadata": {},
   "outputs": [],
   "source": [
    "\n",
    "\n",
    "class Imputer1(BaseEstimator, TransformerMixin):\n",
    "    \"\"\"Impute either mode or mean into cleaned and dummied data\"\"\"\n",
    "    def __init__(self, cols_dict=None):\n",
    "        self.cols_dict = cols_dict\n",
    "\n",
    "    def fit(self, X, y=None):\n",
    "        \"\"\"save the values to impute into each column\"\"\"\n",
    "        df = X\n",
    "        self.averages = {}\n",
    "        for col, val in self.cols_dict.items():\n",
    "            if val=='cat':\n",
    "                self.averages[col] = 'None'\n",
    "            if val=='cont':\n",
    "                self.averages[col] = df.loc[:,col].mean()\n",
    "        return self\n",
    "\n",
    "    def transform(self, X):\n",
    "        \"\"\"for each column in df, impute the columns mean or mode if nan\"\"\"\n",
    "        df = X.copy()\n",
    "        for col in df.columns:\n",
    "            df[col] = df[col].fillna(self.averages[col])\n",
    "        return df\n",
    "    \n",
    "    "
   ]
  },
  {
   "cell_type": "code",
   "execution_count": 8,
   "metadata": {},
   "outputs": [],
   "source": [
    "\n",
    "\n",
    "class Dummifier1(BaseEstimator, TransformerMixin):\n",
    "    \"\"\"Dummify certain columns in a DataFrame\"\"\"\n",
    "    def __init__(self, cols_to_dummy=None):\n",
    "        self.cols_to_dummy = cols_to_dummy \n",
    "        self.unique_items = {}\n",
    "\n",
    "    def fit(self, X, y=None):\n",
    "        df = X\n",
    "        for col in self.cols_to_dummy:\n",
    "            self.unique_items[col] = df[col].unique()\n",
    "        return self\n",
    "            \n",
    "    def transform(self, X):\n",
    "        df = X.copy()\n",
    "        dummy_df = pd.DataFrame()\n",
    "        for col in self.cols_to_dummy:\n",
    "            columns = self.unique_items[col]\n",
    "            for item in columns:\n",
    "                if item==None:\n",
    "                    continue\n",
    "                dummy_df[f'{col}_{item}'] = df[col]==item\n",
    "            dummy_df = dummy_df.iloc[:,:-1]    \n",
    "        df = df.drop(self.cols_to_dummy, axis=1)\n",
    "        dummy_df = dummy_df.astype(int)\n",
    "        df = pd.concat([df, dummy_df], axis=1)\n",
    "        return df\n",
    "    \n",
    "    "
   ]
  },
  {
   "cell_type": "markdown",
   "metadata": {},
   "source": [
    "## Assignment:\n",
    "### Lets Build our own Standardizer Class!"
   ]
  },
  {
   "cell_type": "markdown",
   "metadata": {},
   "source": [
    "In our example above, we are missing a Standardizer object in our pipeline that learns how to standardize given columns of a DataFrame, then standardizes them. "
   ]
  },
  {
   "cell_type": "markdown",
   "metadata": {},
   "source": [
    "First, lets run our raw data through the previous classes to see what they iteratively give us."
   ]
  },
  {
   "cell_type": "code",
   "execution_count": 100,
   "metadata": {},
   "outputs": [],
   "source": [
    "# get the raw data again:\n",
    "X, y = model.load('data/training_data.json')"
   ]
  },
  {
   "cell_type": "code",
   "execution_count": 112,
   "metadata": {},
   "outputs": [
    {
     "data": {
      "text/html": [
       "<div>\n",
       "<style scoped>\n",
       "    .dataframe tbody tr th:only-of-type {\n",
       "        vertical-align: middle;\n",
       "    }\n",
       "\n",
       "    .dataframe tbody tr th {\n",
       "        vertical-align: top;\n",
       "    }\n",
       "\n",
       "    .dataframe thead th {\n",
       "        text-align: right;\n",
       "    }\n",
       "</style>\n",
       "<table border=\"1\" class=\"dataframe\">\n",
       "  <thead>\n",
       "    <tr style=\"text-align: right;\">\n",
       "      <th></th>\n",
       "      <th>body_length</th>\n",
       "      <th>channels</th>\n",
       "      <th>country</th>\n",
       "      <th>currency</th>\n",
       "      <th>delivery_method</th>\n",
       "      <th>description</th>\n",
       "      <th>email_domain</th>\n",
       "      <th>event_created</th>\n",
       "      <th>event_end</th>\n",
       "      <th>event_published</th>\n",
       "      <th>...</th>\n",
       "      <th>ticket_types</th>\n",
       "      <th>user_age</th>\n",
       "      <th>user_created</th>\n",
       "      <th>user_type</th>\n",
       "      <th>venue_address</th>\n",
       "      <th>venue_country</th>\n",
       "      <th>venue_latitude</th>\n",
       "      <th>venue_longitude</th>\n",
       "      <th>venue_name</th>\n",
       "      <th>venue_state</th>\n",
       "    </tr>\n",
       "  </thead>\n",
       "  <tbody>\n",
       "    <tr>\n",
       "      <th>0</th>\n",
       "      <td>3852</td>\n",
       "      <td>5</td>\n",
       "      <td>US</td>\n",
       "      <td>USD</td>\n",
       "      <td>0.0</td>\n",
       "      <td>&lt;p&gt;&lt;a href=\"http://s432.photobucket.com/albums...</td>\n",
       "      <td>gmail.com</td>\n",
       "      <td>1262739706</td>\n",
       "      <td>1265630400</td>\n",
       "      <td>1.263110e+09</td>\n",
       "      <td>...</td>\n",
       "      <td>[{'event_id': 527017, 'cost': 25.0, 'availabil...</td>\n",
       "      <td>36</td>\n",
       "      <td>1259613950</td>\n",
       "      <td>1</td>\n",
       "      <td>717 Washington Avenue</td>\n",
       "      <td>US</td>\n",
       "      <td>25.777471</td>\n",
       "      <td>-80.133433</td>\n",
       "      <td>INK Nightclub - South Beach</td>\n",
       "      <td>FL</td>\n",
       "    </tr>\n",
       "    <tr>\n",
       "      <th>1</th>\n",
       "      <td>3499</td>\n",
       "      <td>0</td>\n",
       "      <td>US</td>\n",
       "      <td>USD</td>\n",
       "      <td>1.0</td>\n",
       "      <td>&lt;p&gt;Join us for a quick, one-night, community-b...</td>\n",
       "      <td>ruf.org</td>\n",
       "      <td>1293832670</td>\n",
       "      <td>1296288000</td>\n",
       "      <td>1.293833e+09</td>\n",
       "      <td>...</td>\n",
       "      <td>[{'event_id': 786878, 'cost': 35.0, 'availabil...</td>\n",
       "      <td>149</td>\n",
       "      <td>1280942776</td>\n",
       "      <td>3</td>\n",
       "      <td></td>\n",
       "      <td>US</td>\n",
       "      <td>32.776566</td>\n",
       "      <td>-79.930922</td>\n",
       "      <td>The Charleston, SC area</td>\n",
       "      <td>SC</td>\n",
       "    </tr>\n",
       "  </tbody>\n",
       "</table>\n",
       "<p>2 rows × 38 columns</p>\n",
       "</div>"
      ],
      "text/plain": [
       "   body_length  channels country currency  delivery_method  \\\n",
       "0         3852         5      US      USD              0.0   \n",
       "1         3499         0      US      USD              1.0   \n",
       "\n",
       "                                         description email_domain  \\\n",
       "0  <p><a href=\"http://s432.photobucket.com/albums...    gmail.com   \n",
       "1  <p>Join us for a quick, one-night, community-b...      ruf.org   \n",
       "\n",
       "   event_created   event_end  event_published     ...      \\\n",
       "0     1262739706  1265630400     1.263110e+09     ...       \n",
       "1     1293832670  1296288000     1.293833e+09     ...       \n",
       "\n",
       "                                        ticket_types  user_age  user_created  \\\n",
       "0  [{'event_id': 527017, 'cost': 25.0, 'availabil...        36    1259613950   \n",
       "1  [{'event_id': 786878, 'cost': 35.0, 'availabil...       149    1280942776   \n",
       "\n",
       "   user_type          venue_address venue_country venue_latitude  \\\n",
       "0          1  717 Washington Avenue            US      25.777471   \n",
       "1          3                                   US      32.776566   \n",
       "\n",
       "   venue_longitude                   venue_name venue_state  \n",
       "0       -80.133433  INK Nightclub - South Beach          FL  \n",
       "1       -79.930922      The Charleston, SC area          SC  \n",
       "\n",
       "[2 rows x 38 columns]"
      ]
     },
     "execution_count": 112,
     "metadata": {},
     "output_type": "execute_result"
    }
   ],
   "source": [
    "# Lets take a peek at X:\n",
    "X.head(2)"
   ]
  },
  {
   "cell_type": "markdown",
   "metadata": {},
   "source": [
    "### Featurize"
   ]
  },
  {
   "cell_type": "code",
   "execution_count": 9,
   "metadata": {},
   "outputs": [],
   "source": [
    "# create a featurizer object. The params are the columns and the order in which we wish to save them into a DataFrame:\n",
    "cols = ['body_length', \n",
    "          'channels', \n",
    "          'country', \n",
    "          'currency', \n",
    "          'description', \n",
    "          'email_domain', \n",
    "          'event_created', \n",
    "          'event_end',\n",
    "          'event_published', \n",
    "          'event_start', \n",
    "          'fb_published', \n",
    "          'has_analytics',\n",
    "          'has_header', \n",
    "          'has_logo', \n",
    "          'listed', \n",
    "          'name', \n",
    "          'name_length', \n",
    "          'object_id',\n",
    "          'org_desc', \n",
    "          'org_facebook', \n",
    "          'org_name', \n",
    "          'org_twitter', \n",
    "          'payee_name',\n",
    "          'payout_type', \n",
    "          'previous_payouts', \n",
    "          'sale_duration', \n",
    "          'show_map',\n",
    "          'ticket_types', \n",
    "          'user_age', \n",
    "          'user_created', \n",
    "          'user_type',\n",
    "          'venue_address', \n",
    "          'venue_country', \n",
    "          'venue_latitude', \n",
    "          'venue_longitude',\n",
    "          'venue_name', \n",
    "          'venue_state']\n",
    "featurizer = Featurizer1(cols=cols)"
   ]
  },
  {
   "cell_type": "code",
   "execution_count": 10,
   "metadata": {},
   "outputs": [],
   "source": [
    "# There is no fit method in this class, it just transforms data without saving any information\n",
    "X_featurized = featurizer.transform(X)"
   ]
  },
  {
   "cell_type": "code",
   "execution_count": 11,
   "metadata": {},
   "outputs": [
    {
     "data": {
      "text/html": [
       "<div>\n",
       "<style scoped>\n",
       "    .dataframe tbody tr th:only-of-type {\n",
       "        vertical-align: middle;\n",
       "    }\n",
       "\n",
       "    .dataframe tbody tr th {\n",
       "        vertical-align: top;\n",
       "    }\n",
       "\n",
       "    .dataframe thead th {\n",
       "        text-align: right;\n",
       "    }\n",
       "</style>\n",
       "<table border=\"1\" class=\"dataframe\">\n",
       "  <thead>\n",
       "    <tr style=\"text-align: right;\">\n",
       "      <th></th>\n",
       "      <th>body_length</th>\n",
       "      <th>channels</th>\n",
       "      <th>country</th>\n",
       "      <th>currency</th>\n",
       "      <th>fb_published</th>\n",
       "      <th>has_analytics</th>\n",
       "      <th>has_header</th>\n",
       "      <th>has_logo</th>\n",
       "      <th>listed</th>\n",
       "      <th>name_length</th>\n",
       "      <th>...</th>\n",
       "      <th>sale_duration</th>\n",
       "      <th>show_map</th>\n",
       "      <th>user_age</th>\n",
       "      <th>user_type</th>\n",
       "      <th>event_duration</th>\n",
       "      <th>has_payee_name</th>\n",
       "      <th>has_previous_payouts</th>\n",
       "      <th>has_payout_type</th>\n",
       "      <th>has_facebook</th>\n",
       "      <th>has_twitter</th>\n",
       "    </tr>\n",
       "  </thead>\n",
       "  <tbody>\n",
       "    <tr>\n",
       "      <th>0</th>\n",
       "      <td>3852</td>\n",
       "      <td>5</td>\n",
       "      <td>US</td>\n",
       "      <td>USD</td>\n",
       "      <td>0</td>\n",
       "      <td>0</td>\n",
       "      <td>1.0</td>\n",
       "      <td>0</td>\n",
       "      <td>y</td>\n",
       "      <td>60</td>\n",
       "      <td>...</td>\n",
       "      <td>29.0</td>\n",
       "      <td>1</td>\n",
       "      <td>36</td>\n",
       "      <td>1</td>\n",
       "      <td>36000</td>\n",
       "      <td>0</td>\n",
       "      <td>0</td>\n",
       "      <td>0</td>\n",
       "      <td>0</td>\n",
       "      <td>0</td>\n",
       "    </tr>\n",
       "    <tr>\n",
       "      <th>1</th>\n",
       "      <td>3499</td>\n",
       "      <td>0</td>\n",
       "      <td>US</td>\n",
       "      <td>USD</td>\n",
       "      <td>0</td>\n",
       "      <td>0</td>\n",
       "      <td>0.0</td>\n",
       "      <td>1</td>\n",
       "      <td>n</td>\n",
       "      <td>27</td>\n",
       "      <td>...</td>\n",
       "      <td>28.0</td>\n",
       "      <td>0</td>\n",
       "      <td>149</td>\n",
       "      <td>3</td>\n",
       "      <td>32400</td>\n",
       "      <td>1</td>\n",
       "      <td>1</td>\n",
       "      <td>1</td>\n",
       "      <td>0</td>\n",
       "      <td>1</td>\n",
       "    </tr>\n",
       "  </tbody>\n",
       "</table>\n",
       "<p>2 rows × 21 columns</p>\n",
       "</div>"
      ],
      "text/plain": [
       "   body_length  channels country currency  fb_published  has_analytics  \\\n",
       "0         3852         5      US      USD             0              0   \n",
       "1         3499         0      US      USD             0              0   \n",
       "\n",
       "   has_header  has_logo listed  name_length     ...      sale_duration  \\\n",
       "0         1.0         0      y           60     ...               29.0   \n",
       "1         0.0         1      n           27     ...               28.0   \n",
       "\n",
       "   show_map  user_age  user_type  event_duration  has_payee_name  \\\n",
       "0         1        36          1           36000               0   \n",
       "1         0       149          3           32400               1   \n",
       "\n",
       "   has_previous_payouts  has_payout_type  has_facebook  has_twitter  \n",
       "0                     0                0             0            0  \n",
       "1                     1                1             0            1  \n",
       "\n",
       "[2 rows x 21 columns]"
      ]
     },
     "execution_count": 11,
     "metadata": {},
     "output_type": "execute_result"
    }
   ],
   "source": [
    "# Lets take a peek:\n",
    "X_featurized.head(2)"
   ]
  },
  {
   "cell_type": "markdown",
   "metadata": {},
   "source": [
    "### Impute"
   ]
  },
  {
   "cell_type": "code",
   "execution_count": 12,
   "metadata": {},
   "outputs": [],
   "source": [
    "# Create an imputer object. The params are dictionaries identifying which columns are categorical and which are continuous:\n",
    "cols_dict = {'body_length':'cont', \n",
    "             'channels':'cat', \n",
    "             'country':'cat', \n",
    "             'currency':'cat', \n",
    "             'fb_published':'cat', \n",
    "             'has_analytics':'cat', \n",
    "             'has_header':'cat', \n",
    "             'has_logo':'cat', \n",
    "             'listed':'cat',\n",
    "             'name_length':'cont', \n",
    "             'payout_type':'cat', \n",
    "             'sale_duration':'cont', \n",
    "             'show_map':'cat', \n",
    "             'user_age':'cont',\n",
    "             'user_type':'cat', \n",
    "             'event_duration':'cont', \n",
    "             'has_payee_name':'cat', \n",
    "             'has_previous_payouts':'cat',\n",
    "             'has_payout_type':'cat', \n",
    "             'has_facebook':'cat', \n",
    "             'has_twitter':'cat'}\n",
    "imputer = Imputer1(cols_dict=cols_dict)"
   ]
  },
  {
   "cell_type": "code",
   "execution_count": 13,
   "metadata": {},
   "outputs": [
    {
     "data": {
      "text/plain": [
       "Imputer1(cols_dict={'body_length': 'cont', 'channels': 'cat', 'country': 'cat', 'currency': 'cat', 'fb_published': 'cat', 'has_analytics': 'cat', 'has_header': 'cat', 'has_logo': 'cat', 'listed': 'cat', 'name_length': 'cont', 'payout_type': 'cat', 'sale_duration': 'cont', 'show_map': 'cat', 'user_age': 'cont', 'user_type': 'cat', 'event_duration': 'cont', 'has_payee_name': 'cat', 'has_previous_payouts': 'cat', 'has_payout_type': 'cat', 'has_facebook': 'cat', 'has_twitter': 'cat'})"
      ]
     },
     "execution_count": 13,
     "metadata": {},
     "output_type": "execute_result"
    }
   ],
   "source": [
    "# Fit the imputer with the featurized X data\n",
    "# What is the fit method returning?\n",
    "imputer.fit(X_featurized)"
   ]
  },
  {
   "cell_type": "code",
   "execution_count": 14,
   "metadata": {},
   "outputs": [],
   "source": [
    "# Transfrom the featurized data\n",
    "X_imputed = imputer.transform(X_featurized)"
   ]
  },
  {
   "cell_type": "code",
   "execution_count": 15,
   "metadata": {},
   "outputs": [
    {
     "data": {
      "text/html": [
       "<div>\n",
       "<style scoped>\n",
       "    .dataframe tbody tr th:only-of-type {\n",
       "        vertical-align: middle;\n",
       "    }\n",
       "\n",
       "    .dataframe tbody tr th {\n",
       "        vertical-align: top;\n",
       "    }\n",
       "\n",
       "    .dataframe thead th {\n",
       "        text-align: right;\n",
       "    }\n",
       "</style>\n",
       "<table border=\"1\" class=\"dataframe\">\n",
       "  <thead>\n",
       "    <tr style=\"text-align: right;\">\n",
       "      <th></th>\n",
       "      <th>body_length</th>\n",
       "      <th>channels</th>\n",
       "      <th>country</th>\n",
       "      <th>currency</th>\n",
       "      <th>fb_published</th>\n",
       "      <th>has_analytics</th>\n",
       "      <th>has_header</th>\n",
       "      <th>has_logo</th>\n",
       "      <th>listed</th>\n",
       "      <th>name_length</th>\n",
       "      <th>...</th>\n",
       "      <th>sale_duration</th>\n",
       "      <th>show_map</th>\n",
       "      <th>user_age</th>\n",
       "      <th>user_type</th>\n",
       "      <th>event_duration</th>\n",
       "      <th>has_payee_name</th>\n",
       "      <th>has_previous_payouts</th>\n",
       "      <th>has_payout_type</th>\n",
       "      <th>has_facebook</th>\n",
       "      <th>has_twitter</th>\n",
       "    </tr>\n",
       "  </thead>\n",
       "  <tbody>\n",
       "    <tr>\n",
       "      <th>0</th>\n",
       "      <td>3852</td>\n",
       "      <td>5</td>\n",
       "      <td>US</td>\n",
       "      <td>USD</td>\n",
       "      <td>0</td>\n",
       "      <td>0</td>\n",
       "      <td>1.0</td>\n",
       "      <td>0</td>\n",
       "      <td>y</td>\n",
       "      <td>60</td>\n",
       "      <td>...</td>\n",
       "      <td>29.0</td>\n",
       "      <td>1</td>\n",
       "      <td>36</td>\n",
       "      <td>1</td>\n",
       "      <td>36000</td>\n",
       "      <td>0</td>\n",
       "      <td>0</td>\n",
       "      <td>0</td>\n",
       "      <td>0</td>\n",
       "      <td>0</td>\n",
       "    </tr>\n",
       "    <tr>\n",
       "      <th>1</th>\n",
       "      <td>3499</td>\n",
       "      <td>0</td>\n",
       "      <td>US</td>\n",
       "      <td>USD</td>\n",
       "      <td>0</td>\n",
       "      <td>0</td>\n",
       "      <td>0.0</td>\n",
       "      <td>1</td>\n",
       "      <td>n</td>\n",
       "      <td>27</td>\n",
       "      <td>...</td>\n",
       "      <td>28.0</td>\n",
       "      <td>0</td>\n",
       "      <td>149</td>\n",
       "      <td>3</td>\n",
       "      <td>32400</td>\n",
       "      <td>1</td>\n",
       "      <td>1</td>\n",
       "      <td>1</td>\n",
       "      <td>0</td>\n",
       "      <td>1</td>\n",
       "    </tr>\n",
       "  </tbody>\n",
       "</table>\n",
       "<p>2 rows × 21 columns</p>\n",
       "</div>"
      ],
      "text/plain": [
       "   body_length  channels country currency  fb_published  has_analytics  \\\n",
       "0         3852         5      US      USD             0              0   \n",
       "1         3499         0      US      USD             0              0   \n",
       "\n",
       "   has_header  has_logo listed  name_length     ...      sale_duration  \\\n",
       "0         1.0         0      y           60     ...               29.0   \n",
       "1         0.0         1      n           27     ...               28.0   \n",
       "\n",
       "   show_map  user_age  user_type  event_duration  has_payee_name  \\\n",
       "0         1        36          1           36000               0   \n",
       "1         0       149          3           32400               1   \n",
       "\n",
       "   has_previous_payouts  has_payout_type  has_facebook  has_twitter  \n",
       "0                     0                0             0            0  \n",
       "1                     1                1             0            1  \n",
       "\n",
       "[2 rows x 21 columns]"
      ]
     },
     "execution_count": 15,
     "metadata": {},
     "output_type": "execute_result"
    }
   ],
   "source": [
    "# Lets take a peek:\n",
    "X_imputed.head(2)"
   ]
  },
  {
   "cell_type": "markdown",
   "metadata": {},
   "source": [
    "### Dummify"
   ]
  },
  {
   "cell_type": "code",
   "execution_count": 16,
   "metadata": {},
   "outputs": [],
   "source": [
    "# create a dummifier object. The params are the categorical columns:\n",
    "cols_to_dummy = ['channels', \n",
    "                 'country', \n",
    "                 'currency', \n",
    "                 'fb_published', \n",
    "                 'has_analytics', \n",
    "                 'has_header', \n",
    "                 'has_logo', \n",
    "                 'listed',\n",
    "                 'payout_type', \n",
    "                 'show_map', \n",
    "                 'user_type', \n",
    "                 'has_payee_name', \n",
    "                 'has_previous_payouts',\n",
    "                 'has_payout_type', \n",
    "                 'has_facebook', \n",
    "                 'has_twitter']\n",
    "dummifier = Dummifier1(cols_to_dummy=cols_to_dummy)"
   ]
  },
  {
   "cell_type": "code",
   "execution_count": 17,
   "metadata": {},
   "outputs": [
    {
     "data": {
      "text/plain": [
       "Dummifier1(cols_to_dummy=['channels', 'country', 'currency', 'fb_published', 'has_analytics', 'has_header', 'has_logo', 'listed', 'payout_type', 'show_map', 'user_type', 'has_payee_name', 'has_previous_payouts', 'has_payout_type', 'has_facebook', 'has_twitter'])"
      ]
     },
     "execution_count": 17,
     "metadata": {},
     "output_type": "execute_result"
    }
   ],
   "source": [
    "# fit the dummifier object with the inputed data:\n",
    "dummifier.fit(X_imputed)"
   ]
  },
  {
   "cell_type": "code",
   "execution_count": 18,
   "metadata": {},
   "outputs": [],
   "source": [
    "# transform the imputed data\n",
    "X_dummified = dummifier.transform(X_imputed)"
   ]
  },
  {
   "cell_type": "code",
   "execution_count": 19,
   "metadata": {},
   "outputs": [
    {
     "data": {
      "text/html": [
       "<div>\n",
       "<style scoped>\n",
       "    .dataframe tbody tr th:only-of-type {\n",
       "        vertical-align: middle;\n",
       "    }\n",
       "\n",
       "    .dataframe tbody tr th {\n",
       "        vertical-align: top;\n",
       "    }\n",
       "\n",
       "    .dataframe thead th {\n",
       "        text-align: right;\n",
       "    }\n",
       "</style>\n",
       "<table border=\"1\" class=\"dataframe\">\n",
       "  <thead>\n",
       "    <tr style=\"text-align: right;\">\n",
       "      <th></th>\n",
       "      <th>body_length</th>\n",
       "      <th>name_length</th>\n",
       "      <th>sale_duration</th>\n",
       "      <th>user_age</th>\n",
       "      <th>event_duration</th>\n",
       "      <th>channels_5</th>\n",
       "      <th>channels_0</th>\n",
       "      <th>channels_8</th>\n",
       "      <th>channels_6</th>\n",
       "      <th>channels_11</th>\n",
       "      <th>...</th>\n",
       "      <th>user_type_1</th>\n",
       "      <th>user_type_3</th>\n",
       "      <th>user_type_4</th>\n",
       "      <th>user_type_5</th>\n",
       "      <th>user_type_103</th>\n",
       "      <th>has_payee_name_0</th>\n",
       "      <th>has_previous_payouts_0</th>\n",
       "      <th>has_payout_type_0</th>\n",
       "      <th>has_facebook_0</th>\n",
       "      <th>has_twitter_0</th>\n",
       "    </tr>\n",
       "  </thead>\n",
       "  <tbody>\n",
       "    <tr>\n",
       "      <th>0</th>\n",
       "      <td>3852</td>\n",
       "      <td>60</td>\n",
       "      <td>29.0</td>\n",
       "      <td>36</td>\n",
       "      <td>36000</td>\n",
       "      <td>1</td>\n",
       "      <td>0</td>\n",
       "      <td>0</td>\n",
       "      <td>0</td>\n",
       "      <td>0</td>\n",
       "      <td>...</td>\n",
       "      <td>1</td>\n",
       "      <td>0</td>\n",
       "      <td>0</td>\n",
       "      <td>0</td>\n",
       "      <td>0</td>\n",
       "      <td>1</td>\n",
       "      <td>1</td>\n",
       "      <td>1</td>\n",
       "      <td>1</td>\n",
       "      <td>1</td>\n",
       "    </tr>\n",
       "    <tr>\n",
       "      <th>1</th>\n",
       "      <td>3499</td>\n",
       "      <td>27</td>\n",
       "      <td>28.0</td>\n",
       "      <td>149</td>\n",
       "      <td>32400</td>\n",
       "      <td>0</td>\n",
       "      <td>1</td>\n",
       "      <td>0</td>\n",
       "      <td>0</td>\n",
       "      <td>0</td>\n",
       "      <td>...</td>\n",
       "      <td>0</td>\n",
       "      <td>1</td>\n",
       "      <td>0</td>\n",
       "      <td>0</td>\n",
       "      <td>0</td>\n",
       "      <td>0</td>\n",
       "      <td>0</td>\n",
       "      <td>0</td>\n",
       "      <td>1</td>\n",
       "      <td>0</td>\n",
       "    </tr>\n",
       "  </tbody>\n",
       "</table>\n",
       "<p>2 rows × 110 columns</p>\n",
       "</div>"
      ],
      "text/plain": [
       "   body_length  name_length  sale_duration  user_age  event_duration  \\\n",
       "0         3852           60           29.0        36           36000   \n",
       "1         3499           27           28.0       149           32400   \n",
       "\n",
       "   channels_5  channels_0  channels_8  channels_6  channels_11      ...        \\\n",
       "0           1           0           0           0            0      ...         \n",
       "1           0           1           0           0            0      ...         \n",
       "\n",
       "   user_type_1  user_type_3  user_type_4  user_type_5  user_type_103  \\\n",
       "0            1            0            0            0              0   \n",
       "1            0            1            0            0              0   \n",
       "\n",
       "   has_payee_name_0  has_previous_payouts_0  has_payout_type_0  \\\n",
       "0                 1                       1                  1   \n",
       "1                 0                       0                  0   \n",
       "\n",
       "   has_facebook_0  has_twitter_0  \n",
       "0               1              1  \n",
       "1               1              0  \n",
       "\n",
       "[2 rows x 110 columns]"
      ]
     },
     "execution_count": 19,
     "metadata": {},
     "output_type": "execute_result"
    }
   ],
   "source": [
    "# lets take a peek\n",
    "X_dummified.head(2)"
   ]
  },
  {
   "cell_type": "markdown",
   "metadata": {},
   "source": [
    "### Standardize\n",
    "Use the X_dummified DataFrame to make your own class object that standardized the continous features of the DataFrame.\n",
    "The continuous columns are: \n",
    "- body_length\n",
    "- name_length \n",
    "- sale_duration \n",
    "- user_age \n",
    "- event_duration"
   ]
  },
  {
   "cell_type": "markdown",
   "metadata": {},
   "source": [
    "Let's build a class called `Standardizer1` that takes in a DataFrame with the `parameter` we pass into the class being a list of columns we wish to standardize. The `fit()` method will assign the `mean` of each column to a dictionary.\n",
    "\n",
    "`self.means = {column: mean}`\n",
    "\n",
    "The `fit()` method will also assign the `standard deviation` of each column to a dictionary. \n",
    "\n",
    "`self.deviations = {column: deviation}`\n",
    "\n",
    "The `transform()` method will then standardize each column according to the saved mean and standard deviations of each column."
   ]
  },
  {
   "cell_type": "code",
   "execution_count": 24,
   "metadata": {},
   "outputs": [],
   "source": [
    "continous_cols = ['body_length', \n",
    "                  'name_length', \n",
    "                  'sale_duration', \n",
    "                  'user_age', \n",
    "                  'event_duration']"
   ]
  },
  {
   "cell_type": "code",
   "execution_count": 30,
   "metadata": {},
   "outputs": [],
   "source": [
    "\"\"\"\n",
    "Instructions:\n",
    "    The class should inherit traits from BaseEstimator and TransformerMixin (both imported from sklearn.base)\n",
    "    If applicable, parameters need to be assigned in the __init__() method\n",
    "    The name of param within the __init__(self, param) needs to match the name self.param exactly\n",
    "    The fit method must return itself, even if there is no need to fit anything\n",
    "    The fit( ) method must take in X and y, even though y may not be necessary. Set y=None.\n",
    "    The transform( ) method take in only X.\n",
    "    It is best practice to make a copy of X (X = X.copy()) in the tranform to avoid transforming the original dataframe.\n",
    "\"\"\"\n",
    "\n",
    "class Standardizer1():\n",
    "    \"\"\"Standardize continuous columns\"\"\"\n",
    "    def __init__(self,):\n",
    "        pass\n",
    "\n",
    "    def fit(self,):\n",
    "        pass\n",
    "    \n",
    "    def transform(self,):\n",
    "        pass\n",
    "    \n",
    "    "
   ]
  },
  {
   "cell_type": "code",
   "execution_count": null,
   "metadata": {},
   "outputs": [],
   "source": []
  },
  {
   "cell_type": "code",
   "execution_count": null,
   "metadata": {},
   "outputs": [],
   "source": []
  },
  {
   "cell_type": "code",
   "execution_count": null,
   "metadata": {},
   "outputs": [],
   "source": []
  },
  {
   "cell_type": "markdown",
   "metadata": {},
   "source": [
    "### After finishing the class, use it below"
   ]
  },
  {
   "cell_type": "code",
   "execution_count": null,
   "metadata": {},
   "outputs": [],
   "source": [
    "standardizer = Standardizer1(continuous_cols=continous_cols)"
   ]
  },
  {
   "cell_type": "code",
   "execution_count": null,
   "metadata": {},
   "outputs": [],
   "source": [
    "standardizer.fit(X_dummified)"
   ]
  },
  {
   "cell_type": "code",
   "execution_count": null,
   "metadata": {},
   "outputs": [],
   "source": [
    "X_standardized = standardizer.transform(X_dummified)"
   ]
  },
  {
   "cell_type": "markdown",
   "metadata": {},
   "source": [
    "Next, run the new data through your crude pipeline:"
   ]
  },
  {
   "cell_type": "code",
   "execution_count": null,
   "metadata": {},
   "outputs": [],
   "source": [
    "new_data = pd.read_csv('data/new_data.csv')"
   ]
  },
  {
   "cell_type": "code",
   "execution_count": null,
   "metadata": {},
   "outputs": [],
   "source": [
    "new_data_featurized = featurizer.transform(new_data)"
   ]
  },
  {
   "cell_type": "code",
   "execution_count": null,
   "metadata": {},
   "outputs": [],
   "source": [
    "new_data_imputed = imputer.transform(new_data_featurized)"
   ]
  },
  {
   "cell_type": "code",
   "execution_count": null,
   "metadata": {},
   "outputs": [],
   "source": [
    "new_data_dummified = dummifier.transform(new_data_imputed)"
   ]
  },
  {
   "cell_type": "code",
   "execution_count": null,
   "metadata": {},
   "outputs": [],
   "source": [
    "new_data_standardized = standardizer.transform(new_data_dummified)"
   ]
  },
  {
   "cell_type": "code",
   "execution_count": null,
   "metadata": {},
   "outputs": [],
   "source": []
  },
  {
   "cell_type": "code",
   "execution_count": null,
   "metadata": {},
   "outputs": [],
   "source": []
  },
  {
   "cell_type": "code",
   "execution_count": null,
   "metadata": {},
   "outputs": [],
   "source": []
  },
  {
   "cell_type": "code",
   "execution_count": null,
   "metadata": {},
   "outputs": [],
   "source": []
  },
  {
   "cell_type": "code",
   "execution_count": null,
   "metadata": {},
   "outputs": [],
   "source": []
  },
  {
   "cell_type": "code",
   "execution_count": null,
   "metadata": {},
   "outputs": [],
   "source": []
  },
  {
   "cell_type": "code",
   "execution_count": null,
   "metadata": {},
   "outputs": [],
   "source": []
  },
  {
   "cell_type": "code",
   "execution_count": null,
   "metadata": {},
   "outputs": [],
   "source": []
  },
  {
   "cell_type": "code",
   "execution_count": null,
   "metadata": {},
   "outputs": [],
   "source": []
  },
  {
   "cell_type": "code",
   "execution_count": null,
   "metadata": {},
   "outputs": [],
   "source": []
  },
  {
   "cell_type": "code",
   "execution_count": null,
   "metadata": {},
   "outputs": [],
   "source": []
  },
  {
   "cell_type": "code",
   "execution_count": null,
   "metadata": {},
   "outputs": [],
   "source": []
  },
  {
   "cell_type": "code",
   "execution_count": null,
   "metadata": {},
   "outputs": [],
   "source": []
  },
  {
   "cell_type": "code",
   "execution_count": null,
   "metadata": {},
   "outputs": [],
   "source": []
  },
  {
   "cell_type": "code",
   "execution_count": null,
   "metadata": {},
   "outputs": [],
   "source": []
  },
  {
   "cell_type": "code",
   "execution_count": null,
   "metadata": {},
   "outputs": [],
   "source": []
  },
  {
   "cell_type": "code",
   "execution_count": null,
   "metadata": {},
   "outputs": [],
   "source": []
  },
  {
   "cell_type": "code",
   "execution_count": null,
   "metadata": {},
   "outputs": [],
   "source": []
  },
  {
   "cell_type": "code",
   "execution_count": null,
   "metadata": {},
   "outputs": [],
   "source": []
  },
  {
   "cell_type": "code",
   "execution_count": null,
   "metadata": {},
   "outputs": [],
   "source": []
  },
  {
   "cell_type": "code",
   "execution_count": null,
   "metadata": {},
   "outputs": [],
   "source": []
  },
  {
   "cell_type": "code",
   "execution_count": null,
   "metadata": {},
   "outputs": [],
   "source": []
  },
  {
   "cell_type": "code",
   "execution_count": null,
   "metadata": {},
   "outputs": [],
   "source": []
  },
  {
   "cell_type": "code",
   "execution_count": null,
   "metadata": {},
   "outputs": [],
   "source": []
  },
  {
   "cell_type": "code",
   "execution_count": null,
   "metadata": {},
   "outputs": [],
   "source": []
  },
  {
   "cell_type": "code",
   "execution_count": null,
   "metadata": {},
   "outputs": [],
   "source": []
  },
  {
   "cell_type": "code",
   "execution_count": null,
   "metadata": {},
   "outputs": [],
   "source": []
  },
  {
   "cell_type": "code",
   "execution_count": null,
   "metadata": {},
   "outputs": [],
   "source": []
  },
  {
   "cell_type": "code",
   "execution_count": null,
   "metadata": {},
   "outputs": [],
   "source": []
  },
  {
   "cell_type": "code",
   "execution_count": null,
   "metadata": {},
   "outputs": [],
   "source": []
  },
  {
   "cell_type": "code",
   "execution_count": null,
   "metadata": {},
   "outputs": [],
   "source": []
  },
  {
   "cell_type": "code",
   "execution_count": null,
   "metadata": {},
   "outputs": [],
   "source": []
  },
  {
   "cell_type": "code",
   "execution_count": null,
   "metadata": {},
   "outputs": [],
   "source": []
  },
  {
   "cell_type": "code",
   "execution_count": null,
   "metadata": {},
   "outputs": [],
   "source": []
  },
  {
   "cell_type": "code",
   "execution_count": null,
   "metadata": {},
   "outputs": [],
   "source": []
  },
  {
   "cell_type": "code",
   "execution_count": null,
   "metadata": {},
   "outputs": [],
   "source": []
  },
  {
   "cell_type": "code",
   "execution_count": null,
   "metadata": {},
   "outputs": [],
   "source": []
  },
  {
   "cell_type": "code",
   "execution_count": null,
   "metadata": {},
   "outputs": [],
   "source": []
  },
  {
   "cell_type": "code",
   "execution_count": null,
   "metadata": {},
   "outputs": [],
   "source": []
  },
  {
   "cell_type": "code",
   "execution_count": null,
   "metadata": {},
   "outputs": [],
   "source": []
  },
  {
   "cell_type": "code",
   "execution_count": null,
   "metadata": {},
   "outputs": [],
   "source": []
  },
  {
   "cell_type": "code",
   "execution_count": null,
   "metadata": {},
   "outputs": [],
   "source": []
  },
  {
   "cell_type": "code",
   "execution_count": null,
   "metadata": {},
   "outputs": [],
   "source": []
  },
  {
   "cell_type": "code",
   "execution_count": null,
   "metadata": {},
   "outputs": [],
   "source": []
  },
  {
   "cell_type": "code",
   "execution_count": null,
   "metadata": {},
   "outputs": [],
   "source": []
  },
  {
   "cell_type": "code",
   "execution_count": null,
   "metadata": {},
   "outputs": [],
   "source": []
  },
  {
   "cell_type": "code",
   "execution_count": null,
   "metadata": {},
   "outputs": [],
   "source": []
  },
  {
   "cell_type": "code",
   "execution_count": null,
   "metadata": {},
   "outputs": [],
   "source": []
  },
  {
   "cell_type": "code",
   "execution_count": null,
   "metadata": {},
   "outputs": [],
   "source": []
  },
  {
   "cell_type": "code",
   "execution_count": null,
   "metadata": {},
   "outputs": [],
   "source": []
  },
  {
   "cell_type": "code",
   "execution_count": null,
   "metadata": {},
   "outputs": [],
   "source": []
  },
  {
   "cell_type": "code",
   "execution_count": null,
   "metadata": {},
   "outputs": [],
   "source": []
  },
  {
   "cell_type": "code",
   "execution_count": null,
   "metadata": {},
   "outputs": [],
   "source": []
  },
  {
   "cell_type": "code",
   "execution_count": null,
   "metadata": {},
   "outputs": [],
   "source": []
  },
  {
   "cell_type": "code",
   "execution_count": null,
   "metadata": {},
   "outputs": [],
   "source": []
  },
  {
   "cell_type": "code",
   "execution_count": null,
   "metadata": {},
   "outputs": [],
   "source": []
  },
  {
   "cell_type": "code",
   "execution_count": null,
   "metadata": {},
   "outputs": [],
   "source": []
  },
  {
   "cell_type": "code",
   "execution_count": null,
   "metadata": {},
   "outputs": [],
   "source": []
  },
  {
   "cell_type": "code",
   "execution_count": null,
   "metadata": {},
   "outputs": [],
   "source": []
  },
  {
   "cell_type": "code",
   "execution_count": null,
   "metadata": {},
   "outputs": [],
   "source": []
  },
  {
   "cell_type": "code",
   "execution_count": null,
   "metadata": {},
   "outputs": [],
   "source": []
  },
  {
   "cell_type": "code",
   "execution_count": null,
   "metadata": {},
   "outputs": [],
   "source": []
  },
  {
   "cell_type": "code",
   "execution_count": null,
   "metadata": {},
   "outputs": [],
   "source": []
  },
  {
   "cell_type": "code",
   "execution_count": 23,
   "metadata": {},
   "outputs": [],
   "source": [
    "# answer:\n",
    "\n",
    "class Standardizer(BaseEstimator, TransformerMixin):\n",
    "    \"\"\"Standardize continuous columns\"\"\"\n",
    "    def __init__(self, continuous_cols=None):\n",
    "        self.continuous_cols = continuous_cols\n",
    "\n",
    "    def fit(self, X, y=None):\n",
    "        df = X\n",
    "        self.means = {}\n",
    "        self.deviations = {}\n",
    "        for col in self.continous_cols:\n",
    "            self.means[col] = df[col].mean()\n",
    "            self.deviations[col] = df[col].std()\n",
    "        return self\n",
    "    \n",
    "    def transform(self, X):\n",
    "        df = X.copy()\n",
    "        for col in self.continous_cols:\n",
    "            df[col] = (df[col]-self.means[col])/self.standard_devs[col]\n",
    "        return df\n",
    "    \n",
    "    "
   ]
  },
  {
   "cell_type": "code",
   "execution_count": null,
   "metadata": {},
   "outputs": [],
   "source": []
  }
 ],
 "metadata": {
  "kernelspec": {
   "display_name": "Python 3",
   "language": "python",
   "name": "python3"
  },
  "language_info": {
   "codemirror_mode": {
    "name": "ipython",
    "version": 3
   },
   "file_extension": ".py",
   "mimetype": "text/x-python",
   "name": "python",
   "nbconvert_exporter": "python",
   "pygments_lexer": "ipython3",
   "version": "3.6.6"
  }
 },
 "nbformat": 4,
 "nbformat_minor": 2
}
